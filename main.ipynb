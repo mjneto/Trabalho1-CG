{
 "cells": [],
 "metadata": {
  "interpreter": {
   "hash": "77952ad64e06d1d5ec2cb67a3f39bc4f8fb50e9c6430ed751fd5cc19e1e33cb4"
  },
  "kernelspec": {
   "display_name": "Python 3.10.4 64-bit",
   "language": "python",
   "name": "python3"
  },
  "language_info": {
   "codemirror_mode": {
    "name": "ipython",
    "version": 3
   },
   "file_extension": ".py",
   "mimetype": "text/x-python",
   "name": "python",
   "nbconvert_exporter": "python",
   "pygments_lexer": "ipython3",
   "version": "3.10.4"
  },
  "orig_nbformat": 4
 },
 "nbformat": 4,
 "nbformat_minor": 2
}
